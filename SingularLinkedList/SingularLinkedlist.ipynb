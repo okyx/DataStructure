{
  "nbformat": 4,
  "nbformat_minor": 0,
  "metadata": {
    "colab": {
      "name": "SingularLinkedlist.ipynb",
      "provenance": [],
      "collapsed_sections": []
    },
    "kernelspec": {
      "name": "python3",
      "display_name": "Python 3"
    },
    "language_info": {
      "name": "python"
    }
  },
  "cells": [
    {
      "cell_type": "code",
      "execution_count": null,
      "metadata": {
        "id": "tWw9bLX47Wlw"
      },
      "outputs": [],
      "source": [
        "class Node:\n",
        "  next = None\n",
        "  data = None"
      ]
    },
    {
      "cell_type": "code",
      "source": [
        "class SLinkedList:\n",
        "  def __init__(self):\n",
        "    self.head = None\n",
        "    self.tail = None\n",
        "\n",
        "  def add(self,data):\n",
        "    lists = Node()\n",
        "    lists.data = data\n",
        "    if self.head == None:\n",
        "      self.head = lists\n",
        "      self.tail = lists\n",
        "    else :\n",
        "      lastList = self.tail\n",
        "      self.tail = lists\n",
        "      lastList.next = lists\n",
        "\n",
        "  def delete(self,data):\n",
        "    \"\"\"delete first data that match\"\"\"\n",
        "    temp = self.head\n",
        "    if self.head.data == data:\n",
        "      self.head = self.head.next\n",
        "      print(\"data {} has been removed\".format(data))\n",
        "      return\n",
        "    pointerBefore = self.head\n",
        "    pointerCurrent = self.head.next  \n",
        "    while pointerCurrent != None:\n",
        "      if pointerCurrent.data == data:\n",
        "        if pointerCurrent.data == self.tail.data:\n",
        "          self.tail = pointerBefore\n",
        "        pointerBefore.next = pointerCurrent.next\n",
        "        print(\"data {} has been removed\".format(data))\n",
        "        return\n",
        "      pointerBefore = pointerCurrent\n",
        "      pointerCurrent = pointerCurrent.next\n",
        "\n",
        "    print(\"There is no data {} in list, use method prints to see the list\".format(data))\n",
        "\n",
        "  def prints(self):\n",
        "    temp = self.head\n",
        "    while temp != None:\n",
        "      print(temp.data)\n",
        "      temp = temp.next\n",
        "      \n",
        "\n",
        "    "
      ],
      "metadata": {
        "id": "Ei940okO7hA-"
      },
      "execution_count": null,
      "outputs": []
    },
    {
      "cell_type": "code",
      "source": [
        "singular = SLinkedList()\n",
        "singular.add(1)"
      ],
      "metadata": {
        "id": "vyYOgzPw8NO3"
      },
      "execution_count": null,
      "outputs": []
    },
    {
      "cell_type": "code",
      "source": [
        "singular.add(2)"
      ],
      "metadata": {
        "id": "LEZQzM2p8lFv"
      },
      "execution_count": null,
      "outputs": []
    },
    {
      "cell_type": "code",
      "source": [
        "singular.add(3)"
      ],
      "metadata": {
        "id": "MZjaggKw_EgJ"
      },
      "execution_count": null,
      "outputs": []
    },
    {
      "cell_type": "code",
      "source": [
        "singular.add(4)"
      ],
      "metadata": {
        "id": "3lbOwpJJF85N"
      },
      "execution_count": null,
      "outputs": []
    },
    {
      "cell_type": "code",
      "source": [
        "singular.prints()"
      ],
      "metadata": {
        "colab": {
          "base_uri": "https://localhost:8080/"
        },
        "id": "YU0rqxMO8mke",
        "outputId": "cac8a904-0d51-4df0-ebe1-27afa703098b"
      },
      "execution_count": null,
      "outputs": [
        {
          "output_type": "stream",
          "name": "stdout",
          "text": [
            "1\n",
            "2\n",
            "3\n",
            "4\n"
          ]
        }
      ]
    },
    {
      "cell_type": "code",
      "source": [
        "singular.delete(3)"
      ],
      "metadata": {
        "colab": {
          "base_uri": "https://localhost:8080/"
        },
        "id": "5X4p2kmnAoRO",
        "outputId": "ef641833-3df5-41e2-cbe8-71f847122a8b"
      },
      "execution_count": null,
      "outputs": [
        {
          "output_type": "stream",
          "name": "stdout",
          "text": [
            "data 3 has been removed\n"
          ]
        }
      ]
    },
    {
      "cell_type": "code",
      "source": [
        "singular.prints()"
      ],
      "metadata": {
        "colab": {
          "base_uri": "https://localhost:8080/"
        },
        "id": "Pjbgr9CbF6T_",
        "outputId": "55950590-568c-4aef-d640-f9ed91739dc9"
      },
      "execution_count": null,
      "outputs": [
        {
          "output_type": "stream",
          "name": "stdout",
          "text": [
            "1\n",
            "2\n",
            "4\n"
          ]
        }
      ]
    },
    {
      "cell_type": "code",
      "source": [
        "singular.delete(5)"
      ],
      "metadata": {
        "colab": {
          "base_uri": "https://localhost:8080/"
        },
        "id": "Mzy74yY9AxTX",
        "outputId": "797973d8-bc4f-4bd7-e5a6-4da06c663d42"
      },
      "execution_count": null,
      "outputs": [
        {
          "output_type": "stream",
          "name": "stdout",
          "text": [
            "There is no data 5 in list, use method prints to see the list\n"
          ]
        }
      ]
    },
    {
      "cell_type": "code",
      "source": [
        "singular.prints()"
      ],
      "metadata": {
        "colab": {
          "base_uri": "https://localhost:8080/"
        },
        "id": "sSg0HRYWBnIR",
        "outputId": "65ae2e13-521c-42ac-f714-90d6af1b89f1"
      },
      "execution_count": null,
      "outputs": [
        {
          "output_type": "stream",
          "name": "stdout",
          "text": [
            "1\n",
            "2\n",
            "4\n"
          ]
        }
      ]
    },
    {
      "cell_type": "code",
      "source": [
        "singular.delete(1)"
      ],
      "metadata": {
        "colab": {
          "base_uri": "https://localhost:8080/"
        },
        "id": "hSKk9hKaGEsH",
        "outputId": "260b104f-3f0b-44c4-e284-60ad3264ac9f"
      },
      "execution_count": null,
      "outputs": [
        {
          "output_type": "stream",
          "name": "stdout",
          "text": [
            "data 1 has been removed\n"
          ]
        }
      ]
    },
    {
      "cell_type": "code",
      "source": [
        "singular.prints()"
      ],
      "metadata": {
        "colab": {
          "base_uri": "https://localhost:8080/"
        },
        "id": "wyMSaJYnGKD9",
        "outputId": "324ffbe3-772f-4aab-dcce-c3212f13531b"
      },
      "execution_count": null,
      "outputs": [
        {
          "output_type": "stream",
          "name": "stdout",
          "text": [
            "2\n",
            "4\n"
          ]
        }
      ]
    },
    {
      "cell_type": "code",
      "source": [
        "singular.head.data"
      ],
      "metadata": {
        "colab": {
          "base_uri": "https://localhost:8080/"
        },
        "id": "vTgvcVQLF18S",
        "outputId": "c979a831-c3f4-426c-84ef-fde848e2c2cf"
      },
      "execution_count": null,
      "outputs": [
        {
          "output_type": "execute_result",
          "data": {
            "text/plain": [
              "2"
            ]
          },
          "metadata": {},
          "execution_count": 195
        }
      ]
    },
    {
      "cell_type": "code",
      "source": [
        "singular.tail.data"
      ],
      "metadata": {
        "colab": {
          "base_uri": "https://localhost:8080/"
        },
        "id": "tkGsEFDeF3rA",
        "outputId": "306cc81d-0c62-493e-84d8-966e983b52d2"
      },
      "execution_count": null,
      "outputs": [
        {
          "output_type": "execute_result",
          "data": {
            "text/plain": [
              "4"
            ]
          },
          "metadata": {},
          "execution_count": 196
        }
      ]
    },
    {
      "cell_type": "code",
      "source": [
        "singular.delete(4)"
      ],
      "metadata": {
        "colab": {
          "base_uri": "https://localhost:8080/"
        },
        "id": "zUOArnE3GJKY",
        "outputId": "dc8919cd-50bc-4721-c9b5-5319530c616e"
      },
      "execution_count": null,
      "outputs": [
        {
          "output_type": "stream",
          "name": "stdout",
          "text": [
            "data 4 has been removed\n"
          ]
        }
      ]
    },
    {
      "cell_type": "code",
      "source": [
        "singular.prints()"
      ],
      "metadata": {
        "outputId": "01919351-198b-4930-8b28-be20931b64a9",
        "colab": {
          "base_uri": "https://localhost:8080/"
        },
        "id": "e-bOfdBuGMpe"
      },
      "execution_count": null,
      "outputs": [
        {
          "output_type": "stream",
          "name": "stdout",
          "text": [
            "2\n"
          ]
        }
      ]
    },
    {
      "cell_type": "code",
      "source": [
        "singular.head.data"
      ],
      "metadata": {
        "colab": {
          "base_uri": "https://localhost:8080/"
        },
        "outputId": "3687a752-7211-4a94-9bce-1227ec72df18",
        "id": "3uSFAADyGMpe"
      },
      "execution_count": null,
      "outputs": [
        {
          "output_type": "execute_result",
          "data": {
            "text/plain": [
              "2"
            ]
          },
          "metadata": {},
          "execution_count": 200
        }
      ]
    },
    {
      "cell_type": "code",
      "source": [
        "singular.tail.data"
      ],
      "metadata": {
        "colab": {
          "base_uri": "https://localhost:8080/"
        },
        "outputId": "6d2a94b9-d9ec-4da3-ed9b-0ad7f34a9a69",
        "id": "rU9LqwUIGMpe"
      },
      "execution_count": null,
      "outputs": [
        {
          "output_type": "execute_result",
          "data": {
            "text/plain": [
              "2"
            ]
          },
          "metadata": {},
          "execution_count": 201
        }
      ]
    }
  ]
}