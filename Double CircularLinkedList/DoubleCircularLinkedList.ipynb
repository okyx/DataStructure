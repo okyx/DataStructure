{
  "nbformat": 4,
  "nbformat_minor": 0,
  "metadata": {
    "colab": {
      "name": "DoubleCircularLinkedList.ipynb",
      "provenance": []
    },
    "kernelspec": {
      "name": "python3",
      "display_name": "Python 3"
    },
    "language_info": {
      "name": "python"
    }
  },
  "cells": [
    {
      "cell_type": "code",
      "execution_count": null,
      "metadata": {
        "id": "kbNJFHagMD2u"
      },
      "outputs": [],
      "source": [
        "class Node:\n",
        "  next = None\n",
        "  data = None"
      ]
    },
    {
      "cell_type": "code",
      "source": [
        "class DCLinkedList:\n",
        "  def __init__(self):\n",
        "    self.head = None\n",
        "    self.tail = None\n",
        "\n",
        "  def add(self,data):\n",
        "    lists = Node()\n",
        "    lists.data = data\n",
        "    if self.head == None:\n",
        "      self.head = lists\n",
        "      self.tail = lists\n",
        "      self.head.next = self.head\n",
        "      self.head.back = self.head\n",
        "      \n",
        "    else :\n",
        "      lastList = self.tail\n",
        "      lastList.next = lists\n",
        "      lists.back = lastList\n",
        "      self.tail = lists\n",
        "      self.tail.next = self.head\n",
        "      self.head.back = self.tail\n",
        "\n",
        "  def delete(self,data):\n",
        "    \"\"\"delete first data that match\"\"\"\n",
        "    temp = self.head\n",
        "    if self.head.data == data:\n",
        "      self.head = self.head.next\n",
        "      self.head.back = self.tail\n",
        "      self.tail.next = self.head\n",
        "      print(\"data {} has been removed\".format(data))\n",
        "      return\n",
        "\n",
        "    pointerCurrent = self.head.next  \n",
        "    while pointerCurrent != self.head:\n",
        "      if pointerCurrent.data == data:\n",
        "        before = pointerCurrent.back\n",
        "        after = pointerCurrent.next\n",
        "        if pointerCurrent.data == self.tail.data:\n",
        "          self.tail = before\n",
        "          self.tail.next = self.head\n",
        "          self.head.back = self.tail\n",
        "        else :\n",
        "          before.next = after\n",
        "          after.back = before\n",
        "        print(\"data {} has been removed\".format(data))\n",
        "        return\n",
        "      pointerCurrent = pointerCurrent.next\n",
        "\n",
        "    print(\"There is no data {} in list, use method prints to see the list\".format(data))\n",
        "\n",
        "  def prints(self):\n",
        "    temp = self.head\n",
        "    isTail = False\n",
        "    while not isTail:\n",
        "      isTail = (temp == self.tail)\n",
        "      before = temp.back.data if temp.back!= None else None\n",
        "      after = temp.next.data if temp.next != None else None\n",
        "      print(before,\n",
        "            temp.data,\n",
        "            after)\n",
        "      temp = temp.next\n",
        "      \n",
        "\n",
        "    "
      ],
      "metadata": {
        "id": "9BpjH0YLMIQf"
      },
      "execution_count": null,
      "outputs": []
    },
    {
      "cell_type": "code",
      "source": [
        "singular = DCLinkedList()\n",
        "singular.add(1)"
      ],
      "metadata": {
        "id": "vyYOgzPw8NO3"
      },
      "execution_count": null,
      "outputs": []
    },
    {
      "cell_type": "code",
      "source": [
        "singular.add(2)"
      ],
      "metadata": {
        "id": "LEZQzM2p8lFv"
      },
      "execution_count": null,
      "outputs": []
    },
    {
      "cell_type": "code",
      "source": [
        "singular.add(3)"
      ],
      "metadata": {
        "id": "MZjaggKw_EgJ"
      },
      "execution_count": null,
      "outputs": []
    },
    {
      "cell_type": "code",
      "source": [
        "singular.add(4)"
      ],
      "metadata": {
        "id": "3lbOwpJJF85N"
      },
      "execution_count": null,
      "outputs": []
    },
    {
      "cell_type": "code",
      "source": [
        "singular.prints()"
      ],
      "metadata": {
        "colab": {
          "base_uri": "https://localhost:8080/"
        },
        "id": "YU0rqxMO8mke",
        "outputId": "0877245d-3500-41e1-d94b-47abc9042bb8"
      },
      "execution_count": null,
      "outputs": [
        {
          "output_type": "stream",
          "name": "stdout",
          "text": [
            "4 1 2\n",
            "1 2 3\n",
            "2 3 4\n",
            "3 4 1\n"
          ]
        }
      ]
    },
    {
      "cell_type": "code",
      "source": [
        "singular.delete(3)"
      ],
      "metadata": {
        "colab": {
          "base_uri": "https://localhost:8080/"
        },
        "id": "5X4p2kmnAoRO",
        "outputId": "7939f987-1eef-48af-8870-2de98047d5be"
      },
      "execution_count": null,
      "outputs": [
        {
          "output_type": "stream",
          "name": "stdout",
          "text": [
            "data 3 has been removed\n"
          ]
        }
      ]
    },
    {
      "cell_type": "code",
      "source": [
        "singular.prints()"
      ],
      "metadata": {
        "colab": {
          "base_uri": "https://localhost:8080/"
        },
        "id": "Pjbgr9CbF6T_",
        "outputId": "ae88315a-a83a-4574-9a95-fd564715e92d"
      },
      "execution_count": null,
      "outputs": [
        {
          "output_type": "stream",
          "name": "stdout",
          "text": [
            "4 1 2\n",
            "1 2 4\n",
            "2 4 1\n"
          ]
        }
      ]
    },
    {
      "cell_type": "code",
      "source": [
        "singular.delete(5)"
      ],
      "metadata": {
        "colab": {
          "base_uri": "https://localhost:8080/"
        },
        "id": "Mzy74yY9AxTX",
        "outputId": "dd5b5052-de62-4ecd-f3ce-0abf83d32ec9"
      },
      "execution_count": null,
      "outputs": [
        {
          "output_type": "stream",
          "name": "stdout",
          "text": [
            "There is no data 5 in list, use method prints to see the list\n"
          ]
        }
      ]
    },
    {
      "cell_type": "code",
      "source": [
        "singular.prints()"
      ],
      "metadata": {
        "colab": {
          "base_uri": "https://localhost:8080/"
        },
        "id": "sSg0HRYWBnIR",
        "outputId": "55b42c5f-3432-4f35-884d-cec770c53155"
      },
      "execution_count": null,
      "outputs": [
        {
          "output_type": "stream",
          "name": "stdout",
          "text": [
            "4 1 2\n",
            "1 2 4\n",
            "2 4 1\n"
          ]
        }
      ]
    },
    {
      "cell_type": "code",
      "source": [
        "singular.delete(1)"
      ],
      "metadata": {
        "colab": {
          "base_uri": "https://localhost:8080/"
        },
        "id": "hSKk9hKaGEsH",
        "outputId": "92ee8f6f-aa61-4e38-9acc-0046b391d958"
      },
      "execution_count": null,
      "outputs": [
        {
          "output_type": "stream",
          "name": "stdout",
          "text": [
            "data 1 has been removed\n"
          ]
        }
      ]
    },
    {
      "cell_type": "code",
      "source": [
        "singular.prints()"
      ],
      "metadata": {
        "colab": {
          "base_uri": "https://localhost:8080/"
        },
        "id": "wyMSaJYnGKD9",
        "outputId": "ab9ae578-3bd7-4e66-fbee-4ffc3ec754d7"
      },
      "execution_count": null,
      "outputs": [
        {
          "output_type": "stream",
          "name": "stdout",
          "text": [
            "4 2 4\n",
            "2 4 2\n"
          ]
        }
      ]
    },
    {
      "cell_type": "code",
      "source": [
        "singular.head.data"
      ],
      "metadata": {
        "colab": {
          "base_uri": "https://localhost:8080/"
        },
        "id": "vTgvcVQLF18S",
        "outputId": "7662726c-b30e-4ba9-dd19-3c318c11bc8f"
      },
      "execution_count": null,
      "outputs": [
        {
          "output_type": "execute_result",
          "data": {
            "text/plain": [
              "2"
            ]
          },
          "metadata": {},
          "execution_count": 37
        }
      ]
    },
    {
      "cell_type": "code",
      "source": [
        "singular.tail.data"
      ],
      "metadata": {
        "colab": {
          "base_uri": "https://localhost:8080/"
        },
        "id": "tkGsEFDeF3rA",
        "outputId": "fce78995-522c-4266-ac30-522b7ac1abe8"
      },
      "execution_count": null,
      "outputs": [
        {
          "output_type": "execute_result",
          "data": {
            "text/plain": [
              "4"
            ]
          },
          "metadata": {},
          "execution_count": 38
        }
      ]
    },
    {
      "cell_type": "code",
      "source": [
        "singular.delete(4)"
      ],
      "metadata": {
        "colab": {
          "base_uri": "https://localhost:8080/"
        },
        "id": "zUOArnE3GJKY",
        "outputId": "142dbfa3-b263-487d-8818-11eddf74b079"
      },
      "execution_count": null,
      "outputs": [
        {
          "output_type": "stream",
          "name": "stdout",
          "text": [
            "data 4 has been removed\n"
          ]
        }
      ]
    },
    {
      "cell_type": "code",
      "source": [
        "singular.prints()"
      ],
      "metadata": {
        "outputId": "01a180e2-0588-4333-8747-ae5a32ea6e0a",
        "colab": {
          "base_uri": "https://localhost:8080/"
        },
        "id": "e-bOfdBuGMpe"
      },
      "execution_count": null,
      "outputs": [
        {
          "output_type": "stream",
          "name": "stdout",
          "text": [
            "2 2 2\n"
          ]
        }
      ]
    },
    {
      "cell_type": "code",
      "source": [
        "singular.head.data"
      ],
      "metadata": {
        "colab": {
          "base_uri": "https://localhost:8080/"
        },
        "outputId": "3570cbad-2ca3-41e1-9506-5790fdf745b5",
        "id": "3uSFAADyGMpe"
      },
      "execution_count": null,
      "outputs": [
        {
          "output_type": "execute_result",
          "data": {
            "text/plain": [
              "2"
            ]
          },
          "metadata": {},
          "execution_count": 41
        }
      ]
    },
    {
      "cell_type": "code",
      "source": [
        "singular.tail.data"
      ],
      "metadata": {
        "colab": {
          "base_uri": "https://localhost:8080/"
        },
        "outputId": "648016ac-a7d2-4044-a776-a4bce37eb7e8",
        "id": "rU9LqwUIGMpe"
      },
      "execution_count": null,
      "outputs": [
        {
          "output_type": "execute_result",
          "data": {
            "text/plain": [
              "2"
            ]
          },
          "metadata": {},
          "execution_count": 42
        }
      ]
    }
  ]
}