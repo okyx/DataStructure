{
  "nbformat": 4,
  "nbformat_minor": 0,
  "metadata": {
    "colab": {
      "name": "doubleLinkedList.ipynb",
      "provenance": []
    },
    "kernelspec": {
      "name": "python3",
      "display_name": "Python 3"
    },
    "language_info": {
      "name": "python"
    }
  },
  "cells": [
    {
      "cell_type": "code",
      "execution_count": null,
      "metadata": {
        "id": "DO4YcHulB17I"
      },
      "outputs": [],
      "source": [
        "class Node:\n",
        "  next = None\n",
        "  back = None\n",
        "  data = None"
      ]
    },
    {
      "cell_type": "code",
      "source": [
        "class DLinkedList:\n",
        "  def __init__(self):\n",
        "    self.head = None\n",
        "    self.tail = None\n",
        "\n",
        "  def add(self,data):\n",
        "    lists = Node()\n",
        "    lists.data = data\n",
        "    if self.head == None:\n",
        "      self.head = lists\n",
        "      self.tail = lists\n",
        "      \n",
        "    else :\n",
        "      lastList = self.tail\n",
        "      lastList.next = lists\n",
        "      lists.back = lastList\n",
        "      self.tail = lists\n",
        "\n",
        "  def delete(self,data):\n",
        "    \"\"\"delete first data that match\"\"\"\n",
        "    temp = self.head\n",
        "    if self.head.data == data:\n",
        "      self.head = self.head.next\n",
        "      self.head.back = None\n",
        "      print(\"data {} has been removed\".format(data))\n",
        "      return\n",
        "\n",
        "    pointerCurrent = self.head.next  \n",
        "    while pointerCurrent != None:\n",
        "      if pointerCurrent.data == data:\n",
        "        before = pointerCurrent.back\n",
        "        after = pointerCurrent.next\n",
        "        if pointerCurrent.data == self.tail.data:\n",
        "          self.tail = before\n",
        "          before.next = None\n",
        "        else :\n",
        "          before.next = after\n",
        "          after.back = before\n",
        "        print(\"data {} has been removed\".format(data))\n",
        "        return\n",
        "      pointerCurrent = pointerCurrent.next\n",
        "\n",
        "    print(\"There is no data {} in list, use method prints to see the list\".format(data))\n",
        "\n",
        "  def prints(self):\n",
        "    temp = self.head\n",
        "    IsTail = False\n",
        "    while temp != None:\n",
        "      before = temp.back.data if temp.back!= None else None\n",
        "      after = temp.next.data if temp.next != None else None\n",
        "      print(before,\n",
        "            temp.data,\n",
        "            after)\n",
        "      temp = temp.next\n",
        "      \n",
        "\n",
        "    "
      ],
      "metadata": {
        "id": "UkH3OxplCL5v"
      },
      "execution_count": null,
      "outputs": []
    },
    {
      "cell_type": "code",
      "source": [
        "singular = DLinkedList()\n",
        "singular.add(1)"
      ],
      "metadata": {
        "id": "N_itIfF_ERBQ"
      },
      "execution_count": null,
      "outputs": []
    },
    {
      "cell_type": "code",
      "source": [
        "singular.add(2)"
      ],
      "metadata": {
        "id": "L2mCbR5dET9d"
      },
      "execution_count": null,
      "outputs": []
    },
    {
      "cell_type": "code",
      "source": [
        "singular.add(3)\n",
        "singular.add(4)\n"
      ],
      "metadata": {
        "id": "LEZQzM2p8lFv"
      },
      "execution_count": null,
      "outputs": []
    },
    {
      "cell_type": "code",
      "source": [
        "singular.prints()"
      ],
      "metadata": {
        "colab": {
          "base_uri": "https://localhost:8080/"
        },
        "id": "1-sgIikGG3aM",
        "outputId": "fcbedd32-055a-48f1-b7a4-714be83b1e1a"
      },
      "execution_count": null,
      "outputs": [
        {
          "output_type": "stream",
          "name": "stdout",
          "text": [
            "None 1 2\n",
            "1 2 3\n",
            "2 3 4\n",
            "3 4 None\n"
          ]
        }
      ]
    },
    {
      "cell_type": "code",
      "source": [
        "singular.delete(3)"
      ],
      "metadata": {
        "colab": {
          "base_uri": "https://localhost:8080/"
        },
        "id": "5X4p2kmnAoRO",
        "outputId": "6c34d3cd-82df-4791-e363-b2480367ebc8"
      },
      "execution_count": null,
      "outputs": [
        {
          "output_type": "stream",
          "name": "stdout",
          "text": [
            "data 3 has been removed\n"
          ]
        }
      ]
    },
    {
      "cell_type": "code",
      "source": [
        "singular.prints()"
      ],
      "metadata": {
        "colab": {
          "base_uri": "https://localhost:8080/"
        },
        "id": "Pjbgr9CbF6T_",
        "outputId": "45636ed9-b097-4cd1-b0cb-b1038c18c232"
      },
      "execution_count": null,
      "outputs": [
        {
          "output_type": "stream",
          "name": "stdout",
          "text": [
            "None 1 2\n",
            "1 2 4\n",
            "2 4 None\n"
          ]
        }
      ]
    },
    {
      "cell_type": "code",
      "source": [
        "singular.delete(5)"
      ],
      "metadata": {
        "colab": {
          "base_uri": "https://localhost:8080/"
        },
        "id": "Mzy74yY9AxTX",
        "outputId": "ca54a63c-ca4b-4f50-eb48-c9b49b4bd498"
      },
      "execution_count": null,
      "outputs": [
        {
          "output_type": "stream",
          "name": "stdout",
          "text": [
            "There is no data 5 in list, use method prints to see the list\n"
          ]
        }
      ]
    },
    {
      "cell_type": "code",
      "source": [
        "singular.prints()"
      ],
      "metadata": {
        "colab": {
          "base_uri": "https://localhost:8080/"
        },
        "id": "sSg0HRYWBnIR",
        "outputId": "6c8f1640-5287-4c40-d021-21e025424172"
      },
      "execution_count": null,
      "outputs": [
        {
          "output_type": "stream",
          "name": "stdout",
          "text": [
            "None 1 2\n",
            "1 2 4\n",
            "2 4 None\n"
          ]
        }
      ]
    },
    {
      "cell_type": "code",
      "source": [
        "singular.delete(1)"
      ],
      "metadata": {
        "colab": {
          "base_uri": "https://localhost:8080/"
        },
        "id": "hSKk9hKaGEsH",
        "outputId": "beda1bc0-bec3-42c1-d9e8-f76393069640"
      },
      "execution_count": null,
      "outputs": [
        {
          "output_type": "stream",
          "name": "stdout",
          "text": [
            "data 1 has been removed\n"
          ]
        }
      ]
    },
    {
      "cell_type": "code",
      "source": [
        "singular.prints()"
      ],
      "metadata": {
        "colab": {
          "base_uri": "https://localhost:8080/"
        },
        "id": "wyMSaJYnGKD9",
        "outputId": "7062dcc0-7e0d-40f2-b87e-059119f1a152"
      },
      "execution_count": null,
      "outputs": [
        {
          "output_type": "stream",
          "name": "stdout",
          "text": [
            "None 2 4\n",
            "2 4 None\n"
          ]
        }
      ]
    },
    {
      "cell_type": "code",
      "source": [
        "singular.head.data"
      ],
      "metadata": {
        "colab": {
          "base_uri": "https://localhost:8080/"
        },
        "id": "vTgvcVQLF18S",
        "outputId": "1b72b83f-b159-41e3-9e27-9803850440f5"
      },
      "execution_count": null,
      "outputs": [
        {
          "output_type": "execute_result",
          "data": {
            "text/plain": [
              "2"
            ]
          },
          "metadata": {},
          "execution_count": 76
        }
      ]
    },
    {
      "cell_type": "code",
      "source": [
        "singular.tail.data"
      ],
      "metadata": {
        "colab": {
          "base_uri": "https://localhost:8080/"
        },
        "id": "tkGsEFDeF3rA",
        "outputId": "ab4228c7-1c06-4b26-e7e6-c6ee9ec21fba"
      },
      "execution_count": null,
      "outputs": [
        {
          "output_type": "execute_result",
          "data": {
            "text/plain": [
              "4"
            ]
          },
          "metadata": {},
          "execution_count": 77
        }
      ]
    },
    {
      "cell_type": "code",
      "source": [
        "singular.delete(4)"
      ],
      "metadata": {
        "colab": {
          "base_uri": "https://localhost:8080/"
        },
        "id": "zUOArnE3GJKY",
        "outputId": "0712c54a-3bfa-4582-e71b-82f78246c6b5"
      },
      "execution_count": null,
      "outputs": [
        {
          "output_type": "stream",
          "name": "stdout",
          "text": [
            "data 4 has been removed\n"
          ]
        }
      ]
    },
    {
      "cell_type": "code",
      "source": [
        "singular.prints()"
      ],
      "metadata": {
        "outputId": "94aec532-6c28-4cfc-dda6-9b072de869de",
        "colab": {
          "base_uri": "https://localhost:8080/"
        },
        "id": "e-bOfdBuGMpe"
      },
      "execution_count": null,
      "outputs": [
        {
          "output_type": "stream",
          "name": "stdout",
          "text": [
            "None 2 None\n"
          ]
        }
      ]
    },
    {
      "cell_type": "code",
      "source": [
        "singular.head.data"
      ],
      "metadata": {
        "colab": {
          "base_uri": "https://localhost:8080/"
        },
        "outputId": "b86323af-5601-4e7a-c29e-3f189df2c547",
        "id": "3uSFAADyGMpe"
      },
      "execution_count": null,
      "outputs": [
        {
          "output_type": "execute_result",
          "data": {
            "text/plain": [
              "2"
            ]
          },
          "metadata": {},
          "execution_count": 80
        }
      ]
    },
    {
      "cell_type": "code",
      "source": [
        "singular.tail.data"
      ],
      "metadata": {
        "colab": {
          "base_uri": "https://localhost:8080/"
        },
        "outputId": "cf25e4b9-2699-4c38-b35f-df232ffae392",
        "id": "rU9LqwUIGMpe"
      },
      "execution_count": null,
      "outputs": [
        {
          "output_type": "execute_result",
          "data": {
            "text/plain": [
              "2"
            ]
          },
          "metadata": {},
          "execution_count": 81
        }
      ]
    }
  ]
}