{
  "nbformat": 4,
  "nbformat_minor": 0,
  "metadata": {
    "colab": {
      "name": "CircularLinkedList.ipynb",
      "provenance": []
    },
    "kernelspec": {
      "name": "python3",
      "display_name": "Python 3"
    },
    "language_info": {
      "name": "python"
    }
  },
  "cells": [
    {
      "cell_type": "code",
      "execution_count": null,
      "metadata": {
        "id": "4Q5aHA3eHazs"
      },
      "outputs": [],
      "source": [
        "class Node:\n",
        "  next = None\n",
        "  data = None"
      ]
    },
    {
      "cell_type": "code",
      "source": [
        "class CLinkedList:\n",
        "  def __init__(self):\n",
        "    self.head = None\n",
        "    self.tail = None\n",
        "\n",
        "  def add(self,data):\n",
        "    lists = Node()\n",
        "    lists.data = data\n",
        "    if self.head == None:\n",
        "      self.head = lists\n",
        "      self.tail = lists\n",
        "      self.head.next = self.head\n",
        "      \n",
        "    else :\n",
        "      lastList = self.tail\n",
        "      lastList.next = lists\n",
        "      lists.next = self.head\n",
        "      self.tail = lists\n",
        "\n",
        "  def delete(self,data):\n",
        "    \"\"\"delete first data that match\"\"\"\n",
        "    temp = self.head\n",
        "    if self.head.data == data:\n",
        "      self.head = self.head.next\n",
        "      self.tail.next = self.head\n",
        "      print(\"data {} has been removed\".format(data))\n",
        "      return\n",
        "    pointerBefore = self.head\n",
        "    pointerCurrent = self.head.next  \n",
        "    while pointerCurrent != self.head:\n",
        "      if pointerCurrent.data == data:\n",
        "        if pointerCurrent.data == self.tail.data:\n",
        "          self.tail = pointerBefore\n",
        "          self.tail.next = self.head\n",
        "        pointerBefore.next = pointerCurrent.next\n",
        "        print(\"data {} has been removed\".format(data))\n",
        "        return\n",
        "      pointerBefore = pointerCurrent\n",
        "      pointerCurrent = pointerCurrent.next\n",
        "\n",
        "    print(\"There is no data {} in list, use method prints to see the list\".format(data))\n",
        "\n",
        "  def prints(self):\n",
        "    temp = self.head\n",
        "    IsTail = False\n",
        "    while not IsTail:\n",
        "      IsTail = (temp == self.tail)\n",
        "      after = temp.next.data if temp.next != None else None\n",
        "      print(temp.data,\n",
        "            after)\n",
        "      temp = temp.next\n",
        "      \n",
        "\n",
        "    "
      ],
      "metadata": {
        "id": "9OO-SDvBHrxh"
      },
      "execution_count": null,
      "outputs": []
    },
    {
      "cell_type": "code",
      "source": [
        "singular = CLinkedList()\n",
        "singular.add(1)"
      ],
      "metadata": {
        "id": "vyYOgzPw8NO3"
      },
      "execution_count": null,
      "outputs": []
    },
    {
      "cell_type": "code",
      "source": [
        "singular.add(2)"
      ],
      "metadata": {
        "id": "LEZQzM2p8lFv"
      },
      "execution_count": null,
      "outputs": []
    },
    {
      "cell_type": "code",
      "source": [
        "singular.add(3)"
      ],
      "metadata": {
        "id": "MZjaggKw_EgJ"
      },
      "execution_count": null,
      "outputs": []
    },
    {
      "cell_type": "code",
      "source": [
        "singular.add(4)"
      ],
      "metadata": {
        "id": "3lbOwpJJF85N"
      },
      "execution_count": null,
      "outputs": []
    },
    {
      "cell_type": "code",
      "source": [
        "singular.prints()"
      ],
      "metadata": {
        "colab": {
          "base_uri": "https://localhost:8080/"
        },
        "id": "YU0rqxMO8mke",
        "outputId": "bbc0169c-3742-45ca-a094-ed6fa35c5a9b"
      },
      "execution_count": null,
      "outputs": [
        {
          "output_type": "stream",
          "name": "stdout",
          "text": [
            "1 2\n",
            "2 3\n",
            "3 4\n",
            "4 1\n"
          ]
        }
      ]
    },
    {
      "cell_type": "code",
      "source": [
        "singular.delete(3)"
      ],
      "metadata": {
        "colab": {
          "base_uri": "https://localhost:8080/"
        },
        "id": "5X4p2kmnAoRO",
        "outputId": "3220bc72-9a83-420a-c3eb-868794f08585"
      },
      "execution_count": null,
      "outputs": [
        {
          "output_type": "stream",
          "name": "stdout",
          "text": [
            "data 3 has been removed\n"
          ]
        }
      ]
    },
    {
      "cell_type": "code",
      "source": [
        "singular.prints()"
      ],
      "metadata": {
        "colab": {
          "base_uri": "https://localhost:8080/"
        },
        "id": "Pjbgr9CbF6T_",
        "outputId": "47da4684-ddbd-403b-bd4d-ade65cdd3ce6"
      },
      "execution_count": null,
      "outputs": [
        {
          "output_type": "stream",
          "name": "stdout",
          "text": [
            "1 2\n",
            "2 4\n",
            "4 1\n"
          ]
        }
      ]
    },
    {
      "cell_type": "code",
      "source": [
        "singular.delete(5)"
      ],
      "metadata": {
        "colab": {
          "base_uri": "https://localhost:8080/"
        },
        "id": "Mzy74yY9AxTX",
        "outputId": "d488bed3-e8f4-4195-f33f-636573d5f490"
      },
      "execution_count": null,
      "outputs": [
        {
          "output_type": "stream",
          "name": "stdout",
          "text": [
            "There is no data 5 in list, use method prints to see the list\n"
          ]
        }
      ]
    },
    {
      "cell_type": "code",
      "source": [
        "singular.prints()"
      ],
      "metadata": {
        "colab": {
          "base_uri": "https://localhost:8080/"
        },
        "id": "sSg0HRYWBnIR",
        "outputId": "4689cc14-acea-4125-dc8b-7ba3a16566ce"
      },
      "execution_count": null,
      "outputs": [
        {
          "output_type": "stream",
          "name": "stdout",
          "text": [
            "1 2\n",
            "2 4\n",
            "4 1\n"
          ]
        }
      ]
    },
    {
      "cell_type": "code",
      "source": [
        "singular.delete(1)"
      ],
      "metadata": {
        "colab": {
          "base_uri": "https://localhost:8080/"
        },
        "id": "hSKk9hKaGEsH",
        "outputId": "102953f7-c987-4865-aba5-065a7bed70a9"
      },
      "execution_count": null,
      "outputs": [
        {
          "output_type": "stream",
          "name": "stdout",
          "text": [
            "data 1 has been removed\n"
          ]
        }
      ]
    },
    {
      "cell_type": "code",
      "source": [
        "singular.prints()"
      ],
      "metadata": {
        "colab": {
          "base_uri": "https://localhost:8080/"
        },
        "id": "wyMSaJYnGKD9",
        "outputId": "349dce72-08cb-4f80-c46b-a5e08fe4f159"
      },
      "execution_count": null,
      "outputs": [
        {
          "output_type": "stream",
          "name": "stdout",
          "text": [
            "2 4\n",
            "4 2\n"
          ]
        }
      ]
    },
    {
      "cell_type": "code",
      "source": [
        "singular.head.data"
      ],
      "metadata": {
        "colab": {
          "base_uri": "https://localhost:8080/"
        },
        "id": "vTgvcVQLF18S",
        "outputId": "d73214e9-7cb9-4686-8941-9eec2553d567"
      },
      "execution_count": null,
      "outputs": [
        {
          "output_type": "execute_result",
          "data": {
            "text/plain": [
              "2"
            ]
          },
          "metadata": {},
          "execution_count": 83
        }
      ]
    },
    {
      "cell_type": "code",
      "source": [
        "singular.tail.data"
      ],
      "metadata": {
        "colab": {
          "base_uri": "https://localhost:8080/"
        },
        "id": "tkGsEFDeF3rA",
        "outputId": "27dba5c1-389e-4bbf-8c30-55885751f8f1"
      },
      "execution_count": null,
      "outputs": [
        {
          "output_type": "execute_result",
          "data": {
            "text/plain": [
              "4"
            ]
          },
          "metadata": {},
          "execution_count": 84
        }
      ]
    },
    {
      "cell_type": "code",
      "source": [
        "singular.delete(4)"
      ],
      "metadata": {
        "colab": {
          "base_uri": "https://localhost:8080/"
        },
        "id": "zUOArnE3GJKY",
        "outputId": "41a0742f-1112-4e86-b7c3-1ef2d294d089"
      },
      "execution_count": null,
      "outputs": [
        {
          "output_type": "stream",
          "name": "stdout",
          "text": [
            "data 4 has been removed\n"
          ]
        }
      ]
    },
    {
      "cell_type": "code",
      "source": [
        "singular.prints()"
      ],
      "metadata": {
        "outputId": "b5ea8f65-09ea-406d-c865-b2785f8dc7fc",
        "colab": {
          "base_uri": "https://localhost:8080/"
        },
        "id": "e-bOfdBuGMpe"
      },
      "execution_count": null,
      "outputs": [
        {
          "output_type": "stream",
          "name": "stdout",
          "text": [
            "2 2\n"
          ]
        }
      ]
    },
    {
      "cell_type": "code",
      "source": [
        "singular.head.data"
      ],
      "metadata": {
        "colab": {
          "base_uri": "https://localhost:8080/"
        },
        "outputId": "dc66b01b-da3c-43d2-a533-dba4f34f5431",
        "id": "3uSFAADyGMpe"
      },
      "execution_count": null,
      "outputs": [
        {
          "output_type": "execute_result",
          "data": {
            "text/plain": [
              "2"
            ]
          },
          "metadata": {},
          "execution_count": 87
        }
      ]
    },
    {
      "cell_type": "code",
      "source": [
        "singular.tail.data"
      ],
      "metadata": {
        "colab": {
          "base_uri": "https://localhost:8080/"
        },
        "outputId": "e1167684-4451-4ee9-aa7a-fe70e24efff3",
        "id": "rU9LqwUIGMpe"
      },
      "execution_count": null,
      "outputs": [
        {
          "output_type": "execute_result",
          "data": {
            "text/plain": [
              "2"
            ]
          },
          "metadata": {},
          "execution_count": 88
        }
      ]
    }
  ]
}